{
 "cells": [
  {
   "cell_type": "markdown",
   "metadata": {},
   "source": [
    "## Importing Libraries"
   ]
  },
  {
   "cell_type": "code",
   "execution_count": 47,
   "metadata": {},
   "outputs": [],
   "source": [
    "import pandas as pd\n",
    "import fast_ml\n",
    "from sklearn.preprocessing  import OneHotEncoder\n",
    "from fast_ml import eda\n",
    "from sklearn.model_selection import train_test_split\n",
    "import os\n",
    "from sklearn.linear_model import Ridge, Lasso\n",
    "from sklearn import metrics\n",
    "import numpy as np\n",
    "from sklearn.metrics import r2_score\n",
    "import math\n",
    "from sklearn import svm\n",
    "from sklearn.preprocessing import StandardScaler\n",
    "import hydroeval as he\n",
    "import seaborn as sns\n",
    "import matplotlib.pyplot as plt\n",
    "from sklearn.ensemble import GradientBoostingRegressor\n",
    "%matplotlib inline"
   ]
  },
  {
   "cell_type": "markdown",
   "metadata": {},
   "source": [
    "## Data Preparation"
   ]
  },
  {
   "cell_type": "code",
   "execution_count": 25,
   "metadata": {},
   "outputs": [
    {
     "data": {
      "text/html": [
       "<div>\n",
       "<style scoped>\n",
       "    .dataframe tbody tr th:only-of-type {\n",
       "        vertical-align: middle;\n",
       "    }\n",
       "\n",
       "    .dataframe tbody tr th {\n",
       "        vertical-align: top;\n",
       "    }\n",
       "\n",
       "    .dataframe thead th {\n",
       "        text-align: right;\n",
       "    }\n",
       "</style>\n",
       "<table border=\"1\" class=\"dataframe\">\n",
       "  <thead>\n",
       "    <tr style=\"text-align: right;\">\n",
       "      <th></th>\n",
       "      <th>LOCATION</th>\n",
       "      <th>V25</th>\n",
       "      <th>V85</th>\n",
       "      <th>V90</th>\n",
       "      <th>PW</th>\n",
       "      <th>SW</th>\n",
       "      <th>MW</th>\n",
       "      <th>RA</th>\n",
       "    </tr>\n",
       "  </thead>\n",
       "  <tbody>\n",
       "    <tr>\n",
       "      <th>0</th>\n",
       "      <td>1</td>\n",
       "      <td>20.0</td>\n",
       "      <td>80.0</td>\n",
       "      <td>96.66</td>\n",
       "      <td>7.41</td>\n",
       "      <td>2.5</td>\n",
       "      <td>0.46</td>\n",
       "      <td>No</td>\n",
       "    </tr>\n",
       "    <tr>\n",
       "      <th>1</th>\n",
       "      <td>2</td>\n",
       "      <td>20.0</td>\n",
       "      <td>80.0</td>\n",
       "      <td>96.66</td>\n",
       "      <td>7.41</td>\n",
       "      <td>2.5</td>\n",
       "      <td>0.46</td>\n",
       "      <td>No</td>\n",
       "    </tr>\n",
       "    <tr>\n",
       "      <th>2</th>\n",
       "      <td>3</td>\n",
       "      <td>20.0</td>\n",
       "      <td>80.0</td>\n",
       "      <td>96.66</td>\n",
       "      <td>7.41</td>\n",
       "      <td>2.5</td>\n",
       "      <td>0.46</td>\n",
       "      <td>No</td>\n",
       "    </tr>\n",
       "    <tr>\n",
       "      <th>3</th>\n",
       "      <td>4</td>\n",
       "      <td>20.0</td>\n",
       "      <td>80.0</td>\n",
       "      <td>96.66</td>\n",
       "      <td>7.41</td>\n",
       "      <td>2.5</td>\n",
       "      <td>0.46</td>\n",
       "      <td>No</td>\n",
       "    </tr>\n",
       "    <tr>\n",
       "      <th>4</th>\n",
       "      <td>5</td>\n",
       "      <td>20.0</td>\n",
       "      <td>80.0</td>\n",
       "      <td>96.66</td>\n",
       "      <td>7.41</td>\n",
       "      <td>2.5</td>\n",
       "      <td>0.46</td>\n",
       "      <td>No</td>\n",
       "    </tr>\n",
       "  </tbody>\n",
       "</table>\n",
       "</div>"
      ],
      "text/plain": [
       "   LOCATION    V25   V85    V90   PW    SW    MW  RA\n",
       "0          1  20.0  80.0  96.66  7.41  2.5  0.46  No\n",
       "1          2  20.0  80.0  96.66  7.41  2.5  0.46  No\n",
       "2          3  20.0  80.0  96.66  7.41  2.5  0.46  No\n",
       "3          4  20.0  80.0  96.66  7.41  2.5  0.46  No\n",
       "4          5  20.0  80.0  96.66  7.41  2.5  0.46  No"
      ]
     },
     "execution_count": 25,
     "metadata": {},
     "output_type": "execute_result"
    }
   ],
   "source": [
    "filepath='PROJECT DATA.xlsx'\n",
    "df=pd.read_excel(filepath)\n",
    "df.head(5)"
   ]
  },
  {
   "cell_type": "code",
   "execution_count": 26,
   "metadata": {},
   "outputs": [
    {
     "name": "stdout",
     "output_type": "stream",
     "text": [
      "<class 'pandas.core.frame.DataFrame'>\n",
      "RangeIndex: 40 entries, 0 to 39\n",
      "Data columns (total 8 columns):\n",
      " #   Column     Non-Null Count  Dtype  \n",
      "---  ------     --------------  -----  \n",
      " 0   LOCATION   40 non-null     int64  \n",
      " 1   V25        40 non-null     float64\n",
      " 2   V85        40 non-null     float64\n",
      " 3   V90        40 non-null     float64\n",
      " 4   PW         40 non-null     float64\n",
      " 5   SW         40 non-null     float64\n",
      " 6   MW         40 non-null     float64\n",
      " 7   RA         40 non-null     object \n",
      "dtypes: float64(6), int64(1), object(1)\n",
      "memory usage: 2.6+ KB\n"
     ]
    }
   ],
   "source": [
    "df.info()"
   ]
  },
  {
   "cell_type": "code",
   "execution_count": 27,
   "metadata": {},
   "outputs": [
    {
     "data": {
      "text/html": [
       "<div>\n",
       "<style scoped>\n",
       "    .dataframe tbody tr th:only-of-type {\n",
       "        vertical-align: middle;\n",
       "    }\n",
       "\n",
       "    .dataframe tbody tr th {\n",
       "        vertical-align: top;\n",
       "    }\n",
       "\n",
       "    .dataframe thead th {\n",
       "        text-align: right;\n",
       "    }\n",
       "</style>\n",
       "<table border=\"1\" class=\"dataframe\">\n",
       "  <thead>\n",
       "    <tr style=\"text-align: right;\">\n",
       "      <th></th>\n",
       "      <th>LOCATION</th>\n",
       "      <th>V25</th>\n",
       "      <th>V85</th>\n",
       "      <th>V90</th>\n",
       "      <th>PW</th>\n",
       "      <th>SW</th>\n",
       "      <th>MW</th>\n",
       "    </tr>\n",
       "  </thead>\n",
       "  <tbody>\n",
       "    <tr>\n",
       "      <th>count</th>\n",
       "      <td>40.000000</td>\n",
       "      <td>40.000000</td>\n",
       "      <td>40.000000</td>\n",
       "      <td>40.000000</td>\n",
       "      <td>40.000000</td>\n",
       "      <td>40.000000</td>\n",
       "      <td>4.000000e+01</td>\n",
       "    </tr>\n",
       "    <tr>\n",
       "      <th>mean</th>\n",
       "      <td>20.500000</td>\n",
       "      <td>21.667500</td>\n",
       "      <td>82.501250</td>\n",
       "      <td>96.666250</td>\n",
       "      <td>7.540000</td>\n",
       "      <td>2.478750</td>\n",
       "      <td>4.600000e-01</td>\n",
       "    </tr>\n",
       "    <tr>\n",
       "      <th>std</th>\n",
       "      <td>11.690452</td>\n",
       "      <td>2.924988</td>\n",
       "      <td>3.270237</td>\n",
       "      <td>0.004903</td>\n",
       "      <td>0.161722</td>\n",
       "      <td>0.239842</td>\n",
       "      <td>4.829544e-16</td>\n",
       "    </tr>\n",
       "    <tr>\n",
       "      <th>min</th>\n",
       "      <td>1.000000</td>\n",
       "      <td>20.000000</td>\n",
       "      <td>80.000000</td>\n",
       "      <td>96.660000</td>\n",
       "      <td>7.410000</td>\n",
       "      <td>2.100000</td>\n",
       "      <td>4.600000e-01</td>\n",
       "    </tr>\n",
       "    <tr>\n",
       "      <th>25%</th>\n",
       "      <td>10.750000</td>\n",
       "      <td>20.000000</td>\n",
       "      <td>80.000000</td>\n",
       "      <td>96.660000</td>\n",
       "      <td>7.410000</td>\n",
       "      <td>2.400000</td>\n",
       "      <td>4.600000e-01</td>\n",
       "    </tr>\n",
       "    <tr>\n",
       "      <th>50%</th>\n",
       "      <td>20.500000</td>\n",
       "      <td>20.000000</td>\n",
       "      <td>80.000000</td>\n",
       "      <td>96.670000</td>\n",
       "      <td>7.490000</td>\n",
       "      <td>2.500000</td>\n",
       "      <td>4.600000e-01</td>\n",
       "    </tr>\n",
       "    <tr>\n",
       "      <th>75%</th>\n",
       "      <td>30.250000</td>\n",
       "      <td>21.667500</td>\n",
       "      <td>86.670000</td>\n",
       "      <td>96.670000</td>\n",
       "      <td>7.570000</td>\n",
       "      <td>2.710000</td>\n",
       "      <td>4.600000e-01</td>\n",
       "    </tr>\n",
       "    <tr>\n",
       "      <th>max</th>\n",
       "      <td>40.000000</td>\n",
       "      <td>26.670000</td>\n",
       "      <td>86.670000</td>\n",
       "      <td>96.670000</td>\n",
       "      <td>7.810000</td>\n",
       "      <td>2.710000</td>\n",
       "      <td>4.600000e-01</td>\n",
       "    </tr>\n",
       "  </tbody>\n",
       "</table>\n",
       "</div>"
      ],
      "text/plain": [
       "       LOCATION         V25        V85        V90        PW          SW  \\\n",
       "count  40.000000  40.000000  40.000000  40.000000  40.000000  40.000000   \n",
       "mean   20.500000  21.667500  82.501250  96.666250   7.540000   2.478750   \n",
       "std    11.690452   2.924988   3.270237   0.004903   0.161722   0.239842   \n",
       "min     1.000000  20.000000  80.000000  96.660000   7.410000   2.100000   \n",
       "25%    10.750000  20.000000  80.000000  96.660000   7.410000   2.400000   \n",
       "50%    20.500000  20.000000  80.000000  96.670000   7.490000   2.500000   \n",
       "75%    30.250000  21.667500  86.670000  96.670000   7.570000   2.710000   \n",
       "max    40.000000  26.670000  86.670000  96.670000   7.810000   2.710000   \n",
       "\n",
       "                 MW  \n",
       "count  4.000000e+01  \n",
       "mean   4.600000e-01  \n",
       "std    4.829544e-16  \n",
       "min    4.600000e-01  \n",
       "25%    4.600000e-01  \n",
       "50%    4.600000e-01  \n",
       "75%    4.600000e-01  \n",
       "max    4.600000e-01  "
      ]
     },
     "execution_count": 27,
     "metadata": {},
     "output_type": "execute_result"
    }
   ],
   "source": [
    "df.describe()"
   ]
  },
  {
   "cell_type": "code",
   "execution_count": 28,
   "metadata": {},
   "outputs": [
    {
     "data": {
      "text/html": [
       "<div>\n",
       "<style scoped>\n",
       "    .dataframe tbody tr th:only-of-type {\n",
       "        vertical-align: middle;\n",
       "    }\n",
       "\n",
       "    .dataframe tbody tr th {\n",
       "        vertical-align: top;\n",
       "    }\n",
       "\n",
       "    .dataframe thead th {\n",
       "        text-align: right;\n",
       "    }\n",
       "</style>\n",
       "<table border=\"1\" class=\"dataframe\">\n",
       "  <thead>\n",
       "    <tr style=\"text-align: right;\">\n",
       "      <th></th>\n",
       "      <th>LOCATION</th>\n",
       "      <th>V25</th>\n",
       "      <th>V85</th>\n",
       "      <th>V90</th>\n",
       "      <th>PW</th>\n",
       "      <th>SW</th>\n",
       "      <th>MW</th>\n",
       "    </tr>\n",
       "  </thead>\n",
       "  <tbody>\n",
       "    <tr>\n",
       "      <th>LOCATION</th>\n",
       "      <td>1.000000</td>\n",
       "      <td>0.750234</td>\n",
       "      <td>0.167758</td>\n",
       "      <td>0.838788</td>\n",
       "      <td>0.854431</td>\n",
       "      <td>-0.476678</td>\n",
       "      <td>0.913048</td>\n",
       "    </tr>\n",
       "    <tr>\n",
       "      <th>V25</th>\n",
       "      <td>0.750234</td>\n",
       "      <td>1.000000</td>\n",
       "      <td>-0.447214</td>\n",
       "      <td>0.447214</td>\n",
       "      <td>0.976187</td>\n",
       "      <td>-0.923347</td>\n",
       "      <td>0.570796</td>\n",
       "    </tr>\n",
       "    <tr>\n",
       "      <th>V85</th>\n",
       "      <td>0.167758</td>\n",
       "      <td>-0.447214</td>\n",
       "      <td>1.000000</td>\n",
       "      <td>0.600000</td>\n",
       "      <td>-0.242536</td>\n",
       "      <td>0.756363</td>\n",
       "      <td>0.439158</td>\n",
       "    </tr>\n",
       "    <tr>\n",
       "      <th>V90</th>\n",
       "      <td>0.838788</td>\n",
       "      <td>0.447214</td>\n",
       "      <td>0.600000</td>\n",
       "      <td>1.000000</td>\n",
       "      <td>0.630593</td>\n",
       "      <td>-0.069504</td>\n",
       "      <td>0.949694</td>\n",
       "    </tr>\n",
       "    <tr>\n",
       "      <th>PW</th>\n",
       "      <td>0.854431</td>\n",
       "      <td>0.976187</td>\n",
       "      <td>-0.242536</td>\n",
       "      <td>0.630593</td>\n",
       "      <td>1.000000</td>\n",
       "      <td>-0.818066</td>\n",
       "      <td>0.725627</td>\n",
       "    </tr>\n",
       "    <tr>\n",
       "      <th>SW</th>\n",
       "      <td>-0.476678</td>\n",
       "      <td>-0.923347</td>\n",
       "      <td>0.756363</td>\n",
       "      <td>-0.069504</td>\n",
       "      <td>-0.818066</td>\n",
       "      <td>1.000000</td>\n",
       "      <td>-0.228935</td>\n",
       "    </tr>\n",
       "    <tr>\n",
       "      <th>MW</th>\n",
       "      <td>0.913048</td>\n",
       "      <td>0.570796</td>\n",
       "      <td>0.439158</td>\n",
       "      <td>0.949694</td>\n",
       "      <td>0.725627</td>\n",
       "      <td>-0.228935</td>\n",
       "      <td>1.000000</td>\n",
       "    </tr>\n",
       "  </tbody>\n",
       "</table>\n",
       "</div>"
      ],
      "text/plain": [
       "           LOCATION        V25       V85       V90       PW         SW  \\\n",
       "LOCATION    1.000000  0.750234  0.167758  0.838788  0.854431 -0.476678   \n",
       "V25         0.750234  1.000000 -0.447214  0.447214  0.976187 -0.923347   \n",
       "V85         0.167758 -0.447214  1.000000  0.600000 -0.242536  0.756363   \n",
       "V90         0.838788  0.447214  0.600000  1.000000  0.630593 -0.069504   \n",
       "PW          0.854431  0.976187 -0.242536  0.630593  1.000000 -0.818066   \n",
       "SW         -0.476678 -0.923347  0.756363 -0.069504 -0.818066  1.000000   \n",
       "MW          0.913048  0.570796  0.439158  0.949694  0.725627 -0.228935   \n",
       "\n",
       "                 MW  \n",
       "LOCATION   0.913048  \n",
       "V25        0.570796  \n",
       "V85        0.439158  \n",
       "V90        0.949694  \n",
       "PW         0.725627  \n",
       "SW        -0.228935  \n",
       "MW         1.000000  "
      ]
     },
     "execution_count": 28,
     "metadata": {},
     "output_type": "execute_result"
    }
   ],
   "source": [
    "corr=df[['LOCATION ','V25','V85','V90','PW ','SW','MW']].corr()\n",
    "corr"
   ]
  },
  {
   "cell_type": "code",
   "execution_count": 29,
   "metadata": {},
   "outputs": [
    {
     "data": {
      "image/png": "[encoded data removed]",
      "text/plain": [
       "<Figure size 800x600 with 2 Axes>"
      ]
     },
     "metadata": {},
     "output_type": "display_data"
    }
   ],
   "source": [
    "\n",
    "plt.figure(figsize=(8, 6))\n",
    "heatmap = sns.heatmap(corr,\n",
    "                      cmap='seismic', \n",
    "                      linewidth=0.75,\n",
    "                      linecolor='gray',\n",
    "                      cbar_kws={\"shrink\": .8},\n",
    "                      annot=True,\n",
    "                      annot_kws={'size': 8, 'color': 'black'})\n",
    "\n",
    "heatmap.tick_params(labelsize=10, rotation=45)"
   ]
  },
  {
   "cell_type": "markdown",
   "metadata": {},
   "source": [
    "## Split Data into Training and Testing Sets"
   ]
  },
  {
   "cell_type": "code",
   "execution_count": 30,
   "metadata": {},
   "outputs": [],
   "source": [
    "# Drop the 'LOCATION' column\n",
    "columns=['LOCATION ', 'V25','V90']\n",
    "df = df.drop(columns=columns)"
   ]
  },
  {
   "cell_type": "code",
   "execution_count": 31,
   "metadata": {},
   "outputs": [
    {
     "data": {
      "text/html": [
       "<div>\n",
       "<style scoped>\n",
       "    .dataframe tbody tr th:only-of-type {\n",
       "        vertical-align: middle;\n",
       "    }\n",
       "\n",
       "    .dataframe tbody tr th {\n",
       "        vertical-align: top;\n",
       "    }\n",
       "\n",
       "    .dataframe thead th {\n",
       "        text-align: right;\n",
       "    }\n",
       "</style>\n",
       "<table border=\"1\" class=\"dataframe\">\n",
       "  <thead>\n",
       "    <tr style=\"text-align: right;\">\n",
       "      <th></th>\n",
       "      <th>V85</th>\n",
       "      <th>PW</th>\n",
       "      <th>SW</th>\n",
       "      <th>MW</th>\n",
       "      <th>RA</th>\n",
       "    </tr>\n",
       "  </thead>\n",
       "  <tbody>\n",
       "    <tr>\n",
       "      <th>0</th>\n",
       "      <td>80.0</td>\n",
       "      <td>7.41</td>\n",
       "      <td>2.5</td>\n",
       "      <td>0.46</td>\n",
       "      <td>0</td>\n",
       "    </tr>\n",
       "    <tr>\n",
       "      <th>1</th>\n",
       "      <td>80.0</td>\n",
       "      <td>7.41</td>\n",
       "      <td>2.5</td>\n",
       "      <td>0.46</td>\n",
       "      <td>0</td>\n",
       "    </tr>\n",
       "    <tr>\n",
       "      <th>2</th>\n",
       "      <td>80.0</td>\n",
       "      <td>7.41</td>\n",
       "      <td>2.5</td>\n",
       "      <td>0.46</td>\n",
       "      <td>0</td>\n",
       "    </tr>\n",
       "    <tr>\n",
       "      <th>3</th>\n",
       "      <td>80.0</td>\n",
       "      <td>7.41</td>\n",
       "      <td>2.5</td>\n",
       "      <td>0.46</td>\n",
       "      <td>0</td>\n",
       "    </tr>\n",
       "    <tr>\n",
       "      <th>4</th>\n",
       "      <td>80.0</td>\n",
       "      <td>7.41</td>\n",
       "      <td>2.5</td>\n",
       "      <td>0.46</td>\n",
       "      <td>0</td>\n",
       "    </tr>\n",
       "  </tbody>\n",
       "</table>\n",
       "</div>"
      ],
      "text/plain": [
       "    V85   PW    SW    MW  RA\n",
       "0  80.0  7.41  2.5  0.46   0\n",
       "1  80.0  7.41  2.5  0.46   0\n",
       "2  80.0  7.41  2.5  0.46   0\n",
       "3  80.0  7.41  2.5  0.46   0\n",
       "4  80.0  7.41  2.5  0.46   0"
      ]
     },
     "execution_count": 31,
     "metadata": {},
     "output_type": "execute_result"
    }
   ],
   "source": [
    "encoder = OneHotEncoder(drop='first',sparse_output=False)\n",
    "encoded_RA = encoder.fit_transform(df[['RA']])\n",
    "encoded_df=pd.DataFrame(encoded_RA)\n",
    "df['RA']=encoded_df.astype('int')\n",
    "df.head(5)"
   ]
  },
  {
   "cell_type": "code",
   "execution_count": 32,
   "metadata": {},
   "outputs": [
    {
     "data": {
      "text/plain": [
       "RA\n",
       "0    37\n",
       "1     3\n",
       "Name: count, dtype: int64"
      ]
     },
     "execution_count": 32,
     "metadata": {},
     "output_type": "execute_result"
    }
   ],
   "source": [
    "df['RA'].value_counts()"
   ]
  },
  {
   "cell_type": "code",
   "execution_count": 42,
   "metadata": {},
   "outputs": [
    {
     "name": "stdout",
     "output_type": "stream",
     "text": [
      "        V85   PW         SW       MW  RA\n",
      "0 -0.774597  7.41  0.089729 -1.36277   0\n",
      "1 -0.774597  7.41  0.089729 -1.36277   0\n",
      "2 -0.774597  7.41  0.089729 -1.36277   0\n",
      "3 -0.774597  7.41  0.089729 -1.36277   0\n",
      "4 -0.774597  7.41  0.089729 -1.36277   0\n"
     ]
    }
   ],
   "source": [
    "# Initialize the StandardScaler\n",
    "scaler = StandardScaler()\n",
    "\n",
    "# features to scale \n",
    "numeric_features = ['V85', 'MW', 'SW', 'MW']\n",
    "\n",
    "# Fit and transform the selected numeric features\n",
    "df[numeric_features] = scaler.fit_transform(df[numeric_features])\n",
    "print(df.head(5))"
   ]
  },
  {
   "cell_type": "code",
   "execution_count": 34,
   "metadata": {},
   "outputs": [],
   "source": [
    "#Seperating into feature and target variable\n",
    "target='V85'\n",
    "y=df[target]\n",
    "X=df.drop(columns=target)"
   ]
  },
  {
   "cell_type": "code",
   "execution_count": 35,
   "metadata": {},
   "outputs": [
    {
     "name": "stdout",
     "output_type": "stream",
     "text": [
      "(32, 4)\n",
      "(32,)\n",
      "(8, 4)\n",
      "(8,)\n"
     ]
    }
   ],
   "source": [
    "#Splitting into train and test set\n",
    "X_train, X_test, y_train, y_test =train_test_split(X, y, test_size=0.2, random_state=42)\n",
    "print(X_train.shape)\n",
    "print(y_train.shape)\n",
    "print(X_test.shape)\n",
    "print(y_test.shape)"
   ]
  },
  {
   "cell_type": "code",
   "execution_count": 36,
   "metadata": {},
   "outputs": [],
   "source": [
    "data_dir = \"data\"  \n",
    "# Construct file paths using os.path.join\n",
    "X_train_path = os.path.join(data_dir, \"X_train.csv\")\n",
    "X_test_path = os.path.join(data_dir, \"X_test.csv\")\n",
    "y_train_path = os.path.join(data_dir, \"y_train.csv\")\n",
    "y_test_path = os.path.join(data_dir, \"y_test.csv\")\n",
    "\n",
    "# Save the datasets using the constructed paths\n",
    "X_train.to_csv(X_train_path, index=False)\n",
    "X_test.to_csv(X_test_path, index=False)\n",
    "y_train.to_csv(y_train_path, index=False)\n",
    "y_test.to_csv(y_test_path, index=False)"
   ]
  },
  {
   "cell_type": "code",
   "execution_count": 37,
   "metadata": {},
   "outputs": [],
   "source": [
    "# Read the CSV files using the constructed paths\n",
    "X_train = pd.read_csv(X_train_path)\n",
    "y_train = pd.read_csv(y_train_path)\n",
    "X_test = pd.read_csv(X_test_path)\n",
    "y_test = pd.read_csv(y_test_path)\n",
    "\n",
    "# Ensure y_train and y_test are 1D arrays\n",
    "y_train = y_train.values.ravel()\n",
    "y_test = y_test.values.ravel()"
   ]
  },
  {
   "cell_type": "code",
   "execution_count": 38,
   "metadata": {},
   "outputs": [
    {
     "name": "stdout",
     "output_type": "stream",
     "text": [
      "(32, 4)\n",
      "(32,)\n",
      "(8, 4)\n",
      "(8,)\n"
     ]
    }
   ],
   "source": [
    "print(X_train.shape)\n",
    "print(y_train.shape)\n",
    "print(X_test.shape)\n",
    "print(y_test.shape)"
   ]
  },
  {
   "cell_type": "markdown",
   "metadata": {},
   "source": [
    "## Model Creation"
   ]
  },
  {
   "cell_type": "code",
   "execution_count": 39,
   "metadata": {},
   "outputs": [
    {
     "name": "stdout",
     "output_type": "stream",
     "text": [
      "Prediction for train set\n",
      "MAE is 0.17504271177360597\n",
      "MSE is 0.032964130583461884\n",
      "RMSE is 0.1815602670835827\n",
      "R_Sqd is 0.964039130272587\n",
      "Cor is 0.9818549436004216\n",
      "\n",
      "Prediction for test set\n",
      "MAE is 0.18620870267115563\n",
      "MSE is 0.03572236147775963\n",
      "RMSE is 0.18900360175869568\n",
      "R_Sqd is 0.9642776385222404\n",
      "Cor is 0.9819763940758659\n"
     ]
    }
   ],
   "source": [
    "# Initialize and train the Ridge model\n",
    "Rd = Ridge(alpha=0.1)\n",
    "Rd.fit(X_train, y_train)\n",
    "\n",
    "# Predictions for the train set\n",
    "train_pred = Rd.predict(X_train)\n",
    "\n",
    "print('Prediction for train set')\n",
    "print('MAE is', metrics.mean_absolute_error(y_train, train_pred))\n",
    "print('MSE is', metrics.mean_squared_error(y_train, train_pred))\n",
    "print('RMSE is', np.sqrt(metrics.mean_squared_error(y_train, train_pred)))\n",
    "print('R_Sqd is', r2_score(y_train, train_pred))\n",
    "print('Cor is', math.sqrt(r2_score(y_train, train_pred)))\n",
    "\n",
    "print(\"\")\n",
    "\n",
    "# Predictions for the test set\n",
    "test_pred = Rd.predict(X_test)\n",
    "\n",
    "print('Prediction for test set')\n",
    "print('MAE is', metrics.mean_absolute_error(y_test, test_pred))\n",
    "print('MSE is', metrics.mean_squared_error(y_test, test_pred))\n",
    "print('RMSE is', np.sqrt(metrics.mean_squared_error(y_test, test_pred)))\n",
    "print('R_Sqd is', r2_score(y_test, test_pred))\n",
    "print('Cor is', math.sqrt(r2_score(y_test, test_pred)))"
   ]
  },
  {
   "cell_type": "code",
   "execution_count": 40,
   "metadata": {},
   "outputs": [
    {
     "name": "stdout",
     "output_type": "stream",
     "text": [
      "Prediction for train set\n",
      "MAE is 0.1183454822126291\n",
      "MSE is 0.015415725665506407\n",
      "RMSE is 0.12416008080500918\n",
      "R_Sqd is 0.9831828447285385\n",
      "Cor is 0.9915557698528805\n",
      "\n",
      "Prediction for test set\n",
      "MAE is 0.12911058763994987\n",
      "MSE is 0.017393947755363758\n",
      "RMSE is 0.13188611661340158\n",
      "R_Sqd is 0.9826060522446363\n",
      "Cor is 0.9912648749172122\n"
     ]
    }
   ],
   "source": [
    "# Initialize and train Lasso model\n",
    "Ls = Lasso(alpha=0.01)\n",
    "Ls.fit(X_train, y_train)\n",
    "\n",
    "# Predictions for the train set\n",
    "train_pred = Ls.predict(X_train)\n",
    "\n",
    "print('Prediction for train set')\n",
    "print('MAE is', metrics.mean_absolute_error(y_train, train_pred))\n",
    "print('MSE is', metrics.mean_squared_error(y_train, train_pred))\n",
    "print('RMSE is', np.sqrt(metrics.mean_squared_error(y_train, train_pred)))\n",
    "print('R_Sqd is', r2_score(y_train, train_pred))\n",
    "print('Cor is', math.sqrt(r2_score(y_train, train_pred)))\n",
    "\n",
    "print(\"\")\n",
    "\n",
    "# Predictions for the test set\n",
    "test_pred = Ls.predict(X_test)\n",
    "\n",
    "print('Prediction for test set')\n",
    "print('MAE is', metrics.mean_absolute_error(y_test, test_pred))\n",
    "print('MSE is', metrics.mean_squared_error(y_test, test_pred))\n",
    "print('RMSE is', np.sqrt(metrics.mean_squared_error(y_test, test_pred)))\n",
    "print('R_Sqd is', r2_score(y_test, test_pred))\n",
    "print('Cor is', math.sqrt(r2_score(y_test, test_pred)))"
   ]
  },
  {
   "cell_type": "code",
   "execution_count": 59,
   "metadata": {},
   "outputs": [
    {
     "name": "stdout",
     "output_type": "stream",
     "text": [
      "Prediction for train set\n",
      "MAE is 0.1079064154934532\n",
      "MSE is 0.013549142696315067\n",
      "RMSE is 0.11640078477534017\n",
      "R_Sqd is 0.9852191170585654\n",
      "Cor is 0.9925820455048365\n",
      "\n",
      "Prediction for test set\n",
      "MAE is 0.13733543790075864\n",
      "MSE is 0.020939584167032378\n",
      "RMSE is 0.14470516289003782\n",
      "R_Sqd is 0.9790604158329677\n",
      "Cor is 0.9894748181904215\n"
     ]
    }
   ],
   "source": [
    "# Initialize and train the GradientBoostingRegressor model\n",
    "GBM = GradientBoostingRegressor(n_estimators=20) \n",
    "GBM.fit(X_train, y_train)  # Train the model\n",
    "\n",
    "# Predictions for the train set\n",
    "train_pred = GBM.predict(X_train)\n",
    "\n",
    "print('Prediction for train set')\n",
    "print('MAE is', metrics.mean_absolute_error(y_train, train_pred))\n",
    "print('MSE is', metrics.mean_squared_error(y_train, train_pred))\n",
    "print('RMSE is', np.sqrt(metrics.mean_squared_error(y_train, train_pred)))\n",
    "print('R_Sqd is', r2_score(y_train, train_pred))\n",
    "print('Cor is', math.sqrt(r2_score(y_train, train_pred)))\n",
    "\n",
    "print(\"\")\n",
    "\n",
    "# Predictions for the test set\n",
    "test_pred = GBM.predict(X_test)\n",
    "\n",
    "print('Prediction for test set')\n",
    "print('MAE is', metrics.mean_absolute_error(y_test, test_pred))\n",
    "print('MSE is', metrics.mean_squared_error(y_test, test_pred))\n",
    "print('RMSE is', np.sqrt(metrics.mean_squared_error(y_test, test_pred)))\n",
    "print('R_Sqd is', r2_score(y_test, test_pred))\n",
    "print('Cor is', math.sqrt(r2_score(y_test, test_pred)))\n"
   ]
  }
 ],
 "metadata": {
  "kernelspec": {
   "display_name": "Python 3",
   "language": "python",
   "name": "python3"
  },
  "language_info": {
   "codemirror_mode": {
    "name": "ipython",
    "version": 3
   },
   "file_extension": ".py",
   "mimetype": "text/x-python",
   "name": "python",
   "nbconvert_exporter": "python",
   "pygments_lexer": "ipython3",
   "version": "3.6.13"
  }
 },
 "nbformat": 4,
 "nbformat_minor": 2
}
